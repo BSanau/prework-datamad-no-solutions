{
 "cells": [
  {
   "cell_type": "markdown",
   "metadata": {},
   "source": [
    "# Rock Paper Scissors\n",
    "\n",
    "Let's play the famous game against our computer.\n",
    "\n",
    "https://en.wikipedia.org/wiki/Rock%E2%80%93paper%E2%80%93scissors\n",
    "\n",
    "The use of functions is recommended\n",
    "\n",
    "## Goals\n",
    "1. Use of loop\n",
    "2. Data capture by console\n",
    "3. Use if-elif-else\n",
    "4. Use of try-except\n",
    "5. Definition of functions. Modular programming\n",
    "6. Logical operators.\n",
    "7. Print\n",
    "8. Import modules"
   ]
  },
  {
   "cell_type": "code",
   "execution_count": 1,
   "metadata": {},
   "outputs": [],
   "source": [
    "# Import the choice function of the random module\n",
    "# https://stackoverflow.com/questions/306400/how-to-randomly-select-an-item-from-a-list\n",
    "import random"
   ]
  },
  {
   "cell_type": "code",
   "execution_count": 2,
   "metadata": {},
   "outputs": [],
   "source": [
    "# Assign to a list the 3 possible options: 'stone', 'paper' or 'scissors'.\n",
    "lst_options=['stone', 'paper', 'scissors']"
   ]
  },
  {
   "cell_type": "code",
   "execution_count": 3,
   "metadata": {},
   "outputs": [],
   "source": [
    "# Assign a variable to the maximum number of games: 1, 3, 5, etc ...\n",
    "Ngames=5"
   ]
  },
  {
   "cell_type": "code",
   "execution_count": 4,
   "metadata": {},
   "outputs": [],
   "source": [
    "# Assign a variable to the number of games a player must win to win.\n",
    "# Preferably the value will be based on the number of maximum games\n",
    "import math\n",
    "winner=math.trunc(Ngames/2+1)"
   ]
  },
  {
   "cell_type": "code",
   "execution_count": 5,
   "metadata": {},
   "outputs": [],
   "source": [
    "# Define a function that randomly returns one of the 3 options.\n",
    "# This will correspond to the play of the machine. Totally random.\n",
    "def play_machine (lst_options):\n",
    "    return random.choice(lst_options)"
   ]
  },
  {
   "cell_type": "code",
   "execution_count": 6,
   "metadata": {},
   "outputs": [],
   "source": [
    "# Define a function that asks your choice: 'stone', 'paper' or 'scissors'\n",
    "# you should only allow one of the 3 options. This is defensive programming.\n",
    "# If it is not stone, paper or scissors keep asking until it is.\n",
    "def play_human (lst_options):    \n",
    "    human_choice=None\n",
    "    while human_choice not in lst_options:\n",
    "        print('What do you choose?')\n",
    "        human_choice=input(lst_options)\n",
    "    return human_choice"
   ]
  },
  {
   "cell_type": "code",
   "execution_count": 7,
   "metadata": {},
   "outputs": [],
   "source": [
    "# Define a function that resolves a combat.\n",
    "# Returns 0 if there is a tie, 1 if the machine wins, 2 if the human player wins\n",
    "\n",
    "def game(human_choice, machine_choice):\n",
    "    if human_choice == machine_choice:\n",
    "        return 0\n",
    "    elif ((human_choice=='stone' and machine_choice=='scissors') \n",
    "        or (human_choice=='scissors' and machine_choice=='paper') \n",
    "        or (human_choice=='paper' and machine_choice=='stone')):\n",
    "        return 2\n",
    "    else: return 1"
   ]
  },
  {
   "cell_type": "code",
   "execution_count": 8,
   "metadata": {},
   "outputs": [],
   "source": [
    "# Define a function that shows the choice of each player and the state of the game\n",
    "# This function should be used every time accumulated points are updated\n",
    "\n",
    "def status (number_of_games, machine_choice, human_choice, wins, points_machine, points_human):\n",
    "    print('Game ', number_of_games)\n",
    "    print('Machine chose: ', machine_choice)\n",
    "    print('Player chose: ', human_choice)\n",
    "    \n",
    "    if wins==0: print ('Tie')\n",
    "    elif wins == 1: print('Machine wins')\n",
    "    else: print('Human player wins')\n",
    "    \n",
    "    print('Number of points: ')\n",
    "    print ('Machine: ', points_machine)\n",
    "    print ('Human: ', points_human, '\\n\\n')"
   ]
  },
  {
   "cell_type": "code",
   "execution_count": 9,
   "metadata": {},
   "outputs": [],
   "source": [
    "# Create two variables that accumulate the wins of each participant\n",
    "points_machine = points_human = 0"
   ]
  },
  {
   "cell_type": "code",
   "execution_count": 10,
   "metadata": {
    "scrolled": true
   },
   "outputs": [
    {
     "name": "stdout",
     "output_type": "stream",
     "text": [
      "What do you choose?\n",
      "['stone', 'paper', 'scissors']stone\n",
      "Game  1\n",
      "Machine chose:  paper\n",
      "Player chose:  stone\n",
      "Machine wins\n",
      "Number of points: \n",
      "Machine:  1\n",
      "Human:  0 \n",
      "\n",
      "\n",
      "What do you choose?\n",
      "['stone', 'paper', 'scissors']stone\n",
      "Game  2\n",
      "Machine chose:  scissors\n",
      "Player chose:  stone\n",
      "Human player wins\n",
      "Number of points: \n",
      "Machine:  1\n",
      "Human:  1 \n",
      "\n",
      "\n",
      "What do you choose?\n",
      "['stone', 'paper', 'scissors']stone\n",
      "Game  3\n",
      "Machine chose:  stone\n",
      "Player chose:  stone\n",
      "Tie\n",
      "Number of points: \n",
      "Machine:  1\n",
      "Human:  1 \n",
      "\n",
      "\n",
      "What do you choose?\n",
      "['stone', 'paper', 'scissors']stone\n",
      "Game  4\n",
      "Machine chose:  paper\n",
      "Player chose:  stone\n",
      "Machine wins\n",
      "Number of points: \n",
      "Machine:  2\n",
      "Human:  1 \n",
      "\n",
      "\n",
      "What do you choose?\n",
      "['stone', 'paper', 'scissors']stone\n",
      "Game  5\n",
      "Machine chose:  paper\n",
      "Player chose:  stone\n",
      "Machine wins\n",
      "Number of points: \n",
      "Machine:  3\n",
      "Human:  1 \n",
      "\n",
      "\n"
     ]
    }
   ],
   "source": [
    "# Create a loop that iterates while no player reaches the minimum of wins\n",
    "# necessary to win. Inside the loop solves the play of the\n",
    "# machine and ask the player's. Compare them and update the value of the variables\n",
    "# that accumulate the wins of each participant.\n",
    "number_of_games=0\n",
    "while (points_machine < winner) and (points_human < winner):\n",
    "    \n",
    "    number_of_games += 1\n",
    "    \n",
    "    machine_choice= play_machine(lst_options)\n",
    "    human_choice= play_human (lst_options)\n",
    "    wins=game(human_choice, machine_choice)\n",
    "    \n",
    "    if wins == 1: points_machine += 1\n",
    "    elif wins == 2: points_human += 1\n",
    "    \n",
    "    status (number_of_games, machine_choice, human_choice, wins, points_machine, points_human)\n"
   ]
  },
  {
   "cell_type": "code",
   "execution_count": 11,
   "metadata": {},
   "outputs": [
    {
     "name": "stdout",
     "output_type": "stream",
     "text": [
      "Machine wins\n"
     ]
    }
   ],
   "source": [
    "# Print by console the winner of the game based on who has more accumulated wins \n",
    "if points_machine > points_human: print ('Machine wins')\n",
    "elif points_human > points_machine: print ('Human wins')\n",
    "else: print ('Tie')"
   ]
  },
  {
   "cell_type": "markdown",
   "metadata": {},
   "source": [
    "**Expected output**: Depends on the inputs, you know how to play and what to expect. "
   ]
  },
  {
   "cell_type": "markdown",
   "metadata": {},
   "source": [
    "# Bonus: Stone, paper, scissors, lizard, spock\n",
    "\n",
    "Now the improvement begins.\n",
    "\n",
    "![](images/rpsls.jpg)\n",
    "\n",
    "\n",
    "http://www.samkass.com/theories/RPSSL.html\n",
    "\n",
    "You are asked to impliment some improvements with respect to the simple previous game. In addition, the number of games (which must be ODD) will be requested per console until a valid number is entered.\n",
    "\n",
    "Improvements:\n",
    "* 5 options: stone, paper, scissors, lizard, spock\n",
    "* The number of games is requested per console\n",
    "Tip: Reuse code that you already use. If you have programmed intelligently, the bonus are simple modifications to the original game."
   ]
  },
  {
   "cell_type": "code",
   "execution_count": 1,
   "metadata": {},
   "outputs": [],
   "source": [
    "# Import the choice function of the random module\n",
    "from random import choice"
   ]
  },
  {
   "cell_type": "code",
   "execution_count": 2,
   "metadata": {},
   "outputs": [],
   "source": [
    "# Define a function that asks for an odd number on the keyboard, until it is not valid\n",
    "# will keep asking\n",
    "\n",
    "def is_odd():\n",
    "    print('Please, enter the number of games:')\n",
    "    number=int(input())\n",
    "    while number % 2 == 0:\n",
    "        print('Please, enter an odd number.')\n",
    "        number=int(input())\n",
    "    return number"
   ]
  },
  {
   "cell_type": "code",
   "execution_count": 3,
   "metadata": {},
   "outputs": [],
   "source": [
    "# Assign a list of 5 possible options.\n",
    "lst_options_ext=['stone', 'paper', 'scissors', 'lizard','spock']"
   ]
  },
  {
   "cell_type": "code",
   "execution_count": 4,
   "metadata": {},
   "outputs": [
    {
     "name": "stdout",
     "output_type": "stream",
     "text": [
      "Please, enter the number of games:\n",
      "4\n",
      "Please, enter an odd number.\n",
      "3\n"
     ]
    }
   ],
   "source": [
    "# Assign a variable to the maximum number of games: 1, 3, 5, etc ...\n",
    "# This time the previously defined function is used\n",
    "Ngames_ext=is_odd()"
   ]
  },
  {
   "cell_type": "code",
   "execution_count": 5,
   "metadata": {},
   "outputs": [],
   "source": [
    "# Assign a variable to the number of games a player must win to win.\n",
    "# Preferably the value will be based on the number of maximum games\n",
    "import math\n",
    "winner_ext=math.trunc(Ngames_ext/2+1)"
   ]
  },
  {
   "cell_type": "code",
   "execution_count": 6,
   "metadata": {},
   "outputs": [],
   "source": [
    "# Define a function that randomly returns one of the 5 options.\n",
    "# This will correspond to the play of the machine. Totally random.\n",
    "def play_machine_ext (lst_options_ext):\n",
    "    return choice(lst_options_ext)"
   ]
  },
  {
   "cell_type": "code",
   "execution_count": 7,
   "metadata": {},
   "outputs": [],
   "source": [
    "# Define a function that asks your choice between 5\n",
    "# you should only allow one of the 5 options. This is defensive programming.\n",
    "# If it is not valid, keep asking until it is valid.\n",
    "def play_human_ext():\n",
    "    answer=None\n",
    "    while answer not in lst_options_ext:\n",
    "        print('What do you choose?')\n",
    "        answer=input(lst_options_ext)\n",
    "    return answer"
   ]
  },
  {
   "cell_type": "code",
   "execution_count": 8,
   "metadata": {},
   "outputs": [],
   "source": [
    "# Define a function that resolves a combat.\n",
    "# Returns 0 if there is a tie, 1 if the machine wins, 2 if the human player wins\n",
    "# Now there are more options\n",
    "def game_ext(human_choice, machine_choice):\n",
    "    if human_choice == machine_choice:\n",
    "        return 0\n",
    "    elif ((human_choice=='stone' and (machine_choice=='scissors' or machine_choice=='lizard')) \n",
    "        or (human_choice=='paper' and (machine_choice=='stone' or machine_choice=='spock'))\n",
    "        or (human_choice=='scissors' and (machine_choice=='paper' or machine_choice=='lizard')) \n",
    "        or (human_choice=='lizard' and (machine_choice=='paper' or machine_choice=='spock'))\n",
    "        or (human_choice=='spock' and (machine_choice=='stone' or machine_choice=='scissors'))):\n",
    "        return 2\n",
    "    else: return 1"
   ]
  },
  {
   "cell_type": "code",
   "execution_count": 9,
   "metadata": {},
   "outputs": [],
   "source": [
    "# Define a function that shows the choice of each player and the state of the game\n",
    "# This function should be used every time accumulated points are updated\n",
    "def status_ext (number_of_games_ext, machine_choice_ext, human_choice_ext, wins_ext, points_machine_ext, points_human_ext):\n",
    "    print('Game ', number_of_games_ext)\n",
    "    print('Machine chose: ', machine_choice_ext)\n",
    "    print('Player chose: ', human_choice_ext)\n",
    "    \n",
    "    if wins_ext==0: print ('Tie')\n",
    "    elif wins_ext == 1: print('Machine wins')\n",
    "    else: print('Human player wins')\n",
    "    \n",
    "    print('Number of points: ')\n",
    "    print ('Machine: ', points_machine_ext)\n",
    "    print ('Human: ', points_human_ext, '\\n\\n')"
   ]
  },
  {
   "cell_type": "code",
   "execution_count": 10,
   "metadata": {},
   "outputs": [],
   "source": [
    "# Create two variables that accumulate the wins of each participant\n",
    "points_machine_ext = points_human_ext = 0"
   ]
  },
  {
   "cell_type": "code",
   "execution_count": 11,
   "metadata": {},
   "outputs": [
    {
     "name": "stdout",
     "output_type": "stream",
     "text": [
      "What do you choose?\n",
      "['stone', 'paper', 'scissors', 'lizard', 'spock']spock\n",
      "Game  1\n",
      "Machine chose:  paper\n",
      "Player chose:  spock\n",
      "Machine wins\n",
      "Number of points: \n",
      "Machine:  1\n",
      "Human:  0 \n",
      "\n",
      "\n",
      "What do you choose?\n",
      "['stone', 'paper', 'scissors', 'lizard', 'spock']spock\n",
      "Game  2\n",
      "Machine chose:  spock\n",
      "Player chose:  spock\n",
      "Tie\n",
      "Number of points: \n",
      "Machine:  1\n",
      "Human:  0 \n",
      "\n",
      "\n",
      "What do you choose?\n",
      "['stone', 'paper', 'scissors', 'lizard', 'spock']spock\n",
      "Game  3\n",
      "Machine chose:  lizard\n",
      "Player chose:  spock\n",
      "Machine wins\n",
      "Number of points: \n",
      "Machine:  2\n",
      "Human:  0 \n",
      "\n",
      "\n"
     ]
    }
   ],
   "source": [
    "# Create a loop that iterates while no player reaches the minimum of wins\n",
    "# necessary to win. Inside the loop solves the play of the\n",
    "# machine and ask the player's. Compare them and update the value of the variables\n",
    "# that accumulate the wins of each participant.\n",
    "\n",
    "number_of_games_ext=0\n",
    "while (points_machine_ext < winner_ext) and (points_human_ext < winner_ext):\n",
    "    \n",
    "    number_of_games_ext += 1\n",
    "    \n",
    "    machine_choice_ext= play_machine_ext (lst_options_ext)\n",
    "    human_choice_ext= play_human_ext ()\n",
    "    wins_ext=game_ext(human_choice_ext, machine_choice_ext)\n",
    "    \n",
    "    if wins_ext == 1: points_machine_ext += 1\n",
    "    elif wins_ext == 2: points_human_ext += 1\n",
    "    \n",
    "    status_ext (number_of_games_ext, machine_choice_ext, human_choice_ext, wins_ext, points_machine_ext, points_human_ext)"
   ]
  },
  {
   "cell_type": "code",
   "execution_count": 12,
   "metadata": {},
   "outputs": [
    {
     "name": "stdout",
     "output_type": "stream",
     "text": [
      "Machine wins\n"
     ]
    }
   ],
   "source": [
    "# Print by console the winner of the game based on who has more accumulated wins\n",
    "if points_machine_ext > points_human_ext: print ('Machine wins')\n",
    "elif points_human_ext > points_machine_ext: print ('Human wins')\n",
    "else: print('Tie')"
   ]
  },
  {
   "cell_type": "markdown",
   "metadata": {},
   "source": [
    "**Expected output**: Depends on the inputs, you know how to play and what to expect. "
   ]
  },
  {
   "cell_type": "code",
   "execution_count": null,
   "metadata": {},
   "outputs": [],
   "source": []
  }
 ],
 "metadata": {
  "kernelspec": {
   "display_name": "Python 3",
   "language": "python",
   "name": "python3"
  },
  "language_info": {
   "codemirror_mode": {
    "name": "ipython",
    "version": 3
   },
   "file_extension": ".py",
   "mimetype": "text/x-python",
   "name": "python",
   "nbconvert_exporter": "python",
   "pygments_lexer": "ipython3",
   "version": "3.7.4"
  }
 },
 "nbformat": 4,
 "nbformat_minor": 2
}
